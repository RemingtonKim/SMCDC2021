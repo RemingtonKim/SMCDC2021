{
 "cells": [
  {
   "cell_type": "markdown",
   "id": "764f0d61",
   "metadata": {},
   "source": [
    "# Analysis\n",
    "\n",
    "We perform various analyses of our network in this notebook."
   ]
  },
  {
   "cell_type": "code",
   "execution_count": 1,
   "id": "8e7caf64",
   "metadata": {},
   "outputs": [],
   "source": [
    "import networkx as nx\n",
    "import pandas as pd\n",
    "import pickle\n",
    "import numpy as np\n",
    "import matplotlib.pyplot as plt\n",
    "import matplotlib.patches as mpatches\n",
    "from tqdm.notebook import tqdm"
   ]
  },
  {
   "cell_type": "code",
   "execution_count": 2,
   "id": "b5a59899",
   "metadata": {},
   "outputs": [],
   "source": [
    "# read in graph\n",
    "with open('../data/sampled_undirected.gpickle', 'rb') as handle:\n",
    "    g = pickle.load(handle)"
   ]
  },
  {
   "cell_type": "code",
   "execution_count": 4,
   "id": "94f7aa5b",
   "metadata": {},
   "outputs": [],
   "source": [
    "# read in data\n",
    "papers = pd.read_csv('../data/papers_processed.csv')\n",
    "edges_cc = pd.read_csv('../data/edges_cc_dates.csv')\n",
    "edges_pc = pd.read_csv('../data/edges_pc_dates.csv')\n",
    "edges_pp = pd.read_csv('../data/edges_pp_dates.csv')\n",
    "edges_pp['src'] = edges_pp['src'].astype(str)\n",
    "edges_pp['dst'] = edges_pp['dst'].astype(str)\n",
    "valid_concepts = pd.read_csv('../data/valid_concepts.csv')\n",
    "valid_papers = pd.read_csv('../data/valid_papers.csv')"
   ]
  },
  {
   "cell_type": "code",
   "execution_count": 5,
   "id": "4009efc8",
   "metadata": {},
   "outputs": [],
   "source": [
    "# drop all edges and nodes not in the sampled graph\n",
    "nodes = set(g.nodes())\n",
    "papers = papers[papers['id'].isin(nodes)].reset_index(drop = True)\n",
    "valid_papers = valid_papers[valid_papers['paper'].isin(nodes)].reset_index(drop = True)\n",
    "valid_concepts = valid_concepts[valid_concepts['CUI'].isin(nodes)].reset_index(drop = True)\n",
    "edges_cc = edges_cc[(edges_cc['src'].isin(nodes)) & (edges_cc['dst'].isin(nodes))].reset_index(drop = True)\n",
    "edges_pc = edges_pc[(edges_pc['src'].isin(nodes)) & (edges_pc['dst'].isin(nodes))].reset_index(drop = True)\n",
    "edges_pp = edges_pp[(edges_pp['src'].isin(nodes)) & (edges_pp['dst'].isin(nodes))].reset_index(drop = True)"
   ]
  },
  {
   "cell_type": "code",
   "execution_count": 6,
   "id": "999fafc0",
   "metadata": {},
   "outputs": [
    {
     "name": "stdout",
     "output_type": "stream",
     "text": [
      "Number of nodes: 42062; number of edges: 1744025; average degree: 41.463197185107695\n",
      "Number of concept nodes: 11741; number of paper nodes: 30321\n",
      "Number of cc edges: 146704; number of pc edges: 1502372; number of pp edges: 94967\n"
     ]
    }
   ],
   "source": [
    "num_nodes = g.number_of_nodes()\n",
    "num_edges = g.number_of_edges()\n",
    "print('Number of nodes: {}; number of edges: {}; average degree: {}'.format(num_nodes, num_edges, float(num_edges)/num_nodes))\n",
    "print('Number of concept nodes: {}; number of paper nodes: {}'.format(len(valid_concepts), len(valid_papers)))\n",
    "print('Number of cc edges: {}; number of pc edges: {}; number of pp edges: {}'.format(len(edges_cc), len(edges_pc), len(edges_pp)))"
   ]
  },
  {
   "cell_type": "markdown",
   "id": "41ba8484",
   "metadata": {},
   "source": [
    "## Degree Analysis"
   ]
  },
  {
   "cell_type": "code",
   "execution_count": 7,
   "id": "3c2c6bc2",
   "metadata": {},
   "outputs": [],
   "source": [
    "# create dictionaries to store degree attributes\n",
    "concept_degree_dict = {}\n",
    "for concept in valid_concepts.values:\n",
    "    concept_degree_dict[concept[0]] = {'cc':0, 'pc': 0, 'total':0}\n",
    "paper_degree_dict = {}\n",
    "for paper in valid_papers.values:\n",
    "    paper_degree_dict[paper[0]] = {'pc':0, 'receiving_citation': 0, 'outgoing_citation': 0, 'total':0}"
   ]
  },
  {
   "cell_type": "code",
   "execution_count": 8,
   "id": "8842a945",
   "metadata": {},
   "outputs": [
    {
     "data": {
      "application/vnd.jupyter.widget-view+json": {
       "model_id": "19fe64345b844746a52bb9f9085b7b22",
       "version_major": 2,
       "version_minor": 0
      },
      "text/plain": [
       "  0%|          | 0/146704 [00:00<?, ?it/s]"
      ]
     },
     "metadata": {},
     "output_type": "display_data"
    },
    {
     "data": {
      "application/vnd.jupyter.widget-view+json": {
       "model_id": "66c51e0fcb6b4835b483cd987403a6de",
       "version_major": 2,
       "version_minor": 0
      },
      "text/plain": [
       "  0%|          | 0/1502372 [00:00<?, ?it/s]"
      ]
     },
     "metadata": {},
     "output_type": "display_data"
    }
   ],
   "source": [
    "# record number cc edge degree and pc edge degree\n",
    "for row in tqdm(edges_cc.values):\n",
    "    concept_degree_dict[row[0]]['cc']+=1\n",
    "    concept_degree_dict[row[1]]['cc']+=1\n",
    "    concept_degree_dict[row[0]]['total']+=1\n",
    "    concept_degree_dict[row[1]]['total']+=1\n",
    "for concept in tqdm(edges_pc['dst'].values):\n",
    "    concept_degree_dict[concept]['pc']+=1\n",
    "    concept_degree_dict[concept]['total']+=1"
   ]
  },
  {
   "cell_type": "code",
   "execution_count": 9,
   "id": "7d225137",
   "metadata": {},
   "outputs": [
    {
     "data": {
      "application/vnd.jupyter.widget-view+json": {
       "model_id": "4df7e665e2a644ebb05462ecba80973b",
       "version_major": 2,
       "version_minor": 0
      },
      "text/plain": [
       "  0%|          | 0/1502372 [00:00<?, ?it/s]"
      ]
     },
     "metadata": {},
     "output_type": "display_data"
    },
    {
     "data": {
      "application/vnd.jupyter.widget-view+json": {
       "model_id": "8c9a2c578caa4b6d9038fc8a2c9599dd",
       "version_major": 2,
       "version_minor": 0
      },
      "text/plain": [
       "  0%|          | 0/94967 [00:00<?, ?it/s]"
      ]
     },
     "metadata": {},
     "output_type": "display_data"
    },
    {
     "data": {
      "application/vnd.jupyter.widget-view+json": {
       "model_id": "0cdf8ea9f2bf4bd487a8f7d077516e8a",
       "version_major": 2,
       "version_minor": 0
      },
      "text/plain": [
       "  0%|          | 0/94967 [00:00<?, ?it/s]"
      ]
     },
     "metadata": {},
     "output_type": "display_data"
    }
   ],
   "source": [
    "# record pc edge degree and number of outgoing and receiving citations\n",
    "for paper in tqdm(edges_pc['src'].values):\n",
    "    paper_degree_dict[paper]['pc']+=1\n",
    "    paper_degree_dict[paper]['total']+=1\n",
    "for paper in tqdm(edges_pp['src'].values):\n",
    "    paper_degree_dict[str(paper)]['outgoing_citation']+=1\n",
    "    paper_degree_dict[str(paper)]['total']+=1\n",
    "for paper in tqdm(edges_pp['dst'].values):\n",
    "    paper_degree_dict[str(paper)]['receiving_citation']+=1\n",
    "    paper_degree_dict[str(paper)]['total']+=1"
   ]
  },
  {
   "cell_type": "code",
   "execution_count": 10,
   "id": "f03c4480",
   "metadata": {},
   "outputs": [
    {
     "name": "stdout",
     "output_type": "stream",
     "text": [
      "Average concept node degree: 152.94949322885614 +/- 496.5019169838592\n",
      "Average paper node degree: 55.81300089047195 +/- 29.031829536747242\n",
      "\n",
      "Average concept-concept edge degree: 24.990034920364536 +/- 82.59681099029552\n",
      "Average paper-concept edge degree (concept nodes): 127.9594583084916 +/- 456.1687375332126\n",
      "\n",
      "Average paper-concept edge degree (paper nodes): 49.548893506150854 +/- 22.542878802325145\n",
      "Average receiving citations: 3.132053692160549 +/- 17.03043142066823\n",
      "Average outgoing citations: 3.132053692160549 +/- 8.133676816747872\n"
     ]
    }
   ],
   "source": [
    "avg_degree_c = np.average([x['total'] for x in concept_degree_dict.values()])\n",
    "std_degree_c = np.std([x['total'] for x in concept_degree_dict.values()])\n",
    "avg_degree_p = np.average([x['total'] for x in paper_degree_dict.values()])\n",
    "std_degree_p = np.std([x['total'] for x in paper_degree_dict.values()])\n",
    "\n",
    "print('Average concept node degree: {} +/- {}'.format(avg_degree_c, std_degree_c))\n",
    "print('Average paper node degree: {} +/- {}'.format(avg_degree_p, std_degree_p))\n",
    "print()\n",
    "\n",
    "\n",
    "avg_cc = np.average([x['cc'] for x in concept_degree_dict.values()])\n",
    "std_cc = np.std([x['cc'] for x in concept_degree_dict.values()])\n",
    "avg_pc_c = np.average([x['pc'] for x in concept_degree_dict.values()])\n",
    "std_pc_c = np.std([x['pc'] for x in concept_degree_dict.values()])\n",
    "\n",
    "print('Average concept-concept edge degree: {} +/- {}'.format(avg_cc, std_cc))\n",
    "print('Average paper-concept edge degree (concept nodes): {} +/- {}'.format(avg_pc_c, std_pc_c))\n",
    "print()\n",
    "\n",
    "avg_pc_p = np.average([x['pc'] for x in paper_degree_dict.values()])\n",
    "std_pc_p = np.std([x['pc'] for x in paper_degree_dict.values()])\n",
    "avg_receiving = np.average([x['receiving_citation'] for x in paper_degree_dict.values()])\n",
    "std_receiving = np.std([x['receiving_citation'] for x in paper_degree_dict.values()])\n",
    "avg_outgoing = np.average([x['outgoing_citation'] for x in paper_degree_dict.values()])\n",
    "std_outgoing = np.std([x['outgoing_citation'] for x in paper_degree_dict.values()])\n",
    "\n",
    "print('Average paper-concept edge degree (paper nodes): {} +/- {}'.format(avg_pc_p, std_pc_p))\n",
    "print('Average receiving citations: {} +/- {}'.format(avg_receiving, std_receiving))\n",
    "print('Average outgoing citations: {} +/- {}'.format(avg_outgoing, std_outgoing))"
   ]
  },
  {
   "cell_type": "code",
   "execution_count": 11,
   "id": "c05f0b9a",
   "metadata": {},
   "outputs": [
    {
     "data": {
      "image/png": "[encoded data removed]",
      "text/plain": [
       "<Figure size 576x288 with 1 Axes>"
      ]
     },
     "metadata": {
      "needs_background": "light"
     },
     "output_type": "display_data"
    }
   ],
   "source": [
    "# create degree frequency plot\n",
    "degree_freq = nx.degree_histogram(g)\n",
    "degrees = range(len(degree_freq))\n",
    "plt.rc('text', usetex=True)\n",
    "plt.rc('font', family='serif')\n",
    "fig = plt.figure(figsize=(8, 4))\n",
    "plt.loglog(degrees, degree_freq,'go', markersize=3) \n",
    "plt.xlabel(r'Degree', fontsize=18)\n",
    "plt.ylabel(r'Frequency', fontsize=20)\n",
    "plt.xticks(fontsize=12)\n",
    "plt.yticks(fontsize=12)\n",
    "plt.axis('tight')\n",
    "fig.savefig('../images/degree_distribution.eps', dpi=1200, format='eps')"
   ]
  },
  {
   "cell_type": "markdown",
   "id": "d22e030f",
   "metadata": {},
   "source": [
    "## Link Formation Date Analysis"
   ]
  },
  {
   "cell_type": "code",
   "execution_count": 12,
   "id": "1e646833",
   "metadata": {},
   "outputs": [],
   "source": [
    "# group entries by year\n",
    "cc_year = edges_cc.groupby('year').count()['src']\n",
    "pc_year = edges_pc.groupby('year').count()['src']\n",
    "pp_year = edges_pp.groupby('year').count()['src']"
   ]
  },
  {
   "cell_type": "code",
   "execution_count": 14,
   "id": "84ebf1b7",
   "metadata": {},
   "outputs": [],
   "source": [
    "# cc_year has longest range, so we can make it the x-axis\n",
    "x_axis = list(range(int(cc_year.index[0]), int(cc_year.index[-1])+1))"
   ]
  },
  {
   "cell_type": "code",
   "execution_count": 15,
   "id": "e544a0f6",
   "metadata": {},
   "outputs": [],
   "source": [
    "# create y-values for each type of link at each year\n",
    "cc = []\n",
    "for x in x_axis:\n",
    "    if x in cc_year.index:\n",
    "        cc.append(cc_year[x])\n",
    "    else:\n",
    "        cc.append(0)\n",
    "pc = []\n",
    "for x in x_axis:\n",
    "    if x in pc_year.index:\n",
    "        pc.append(pc_year[x])\n",
    "    else:\n",
    "        pc.append(0)\n",
    "pp = []\n",
    "for x in x_axis:\n",
    "    if x in pp_year.index:\n",
    "        pp.append(pp_year[x])\n",
    "    else:\n",
    "        pp.append(0)\n",
    "cc = np.array(cc)\n",
    "pc = np.array(pc)\n",
    "pp = np.array(pp)"
   ]
  },
  {
   "cell_type": "code",
   "execution_count": 16,
   "id": "4653ba4b",
   "metadata": {},
   "outputs": [],
   "source": [
    "# plots for legend\n",
    "blue_patch = mpatches.Patch(color='#87cfff', label='Paper-concept edges')\n",
    "orange_patch = mpatches.Patch(color='#f05735', label='Concept-concept edges')\n",
    "green_patch = mpatches.Patch(color='#66e83f', label='Paper-paper edges')"
   ]
  },
  {
   "cell_type": "code",
   "execution_count": 17,
   "id": "03e13860",
   "metadata": {},
   "outputs": [
    {
     "name": "stderr",
     "output_type": "stream",
     "text": [
      "The PostScript backend does not support transparency; partially transparent artists will be rendered opaque.\n",
      "The PostScript backend does not support transparency; partially transparent artists will be rendered opaque.\n"
     ]
    },
    {
     "data": {
      "image/png": "[encoded data removed]",
      "text/plain": [
       "<Figure size 576x288 with 1 Axes>"
      ]
     },
     "metadata": {
      "needs_background": "light"
     },
     "output_type": "display_data"
    }
   ],
   "source": [
    "# plot stacked log-scale bar chart\n",
    "fig = plt.figure(figsize = (8, 4))\n",
    "plt.rc('text', usetex=True)\n",
    "plt.rc('font', family='serif')\n",
    "plt.bar(x_axis, pc, color='#87cfff')\n",
    "plt.bar(x_axis, cc, bottom=pc, color='#f05735')\n",
    "plt.bar(x_axis, pp, bottom=pc+cc, color='#66e83f')\n",
    "plt.xlabel(r'Year', fontsize=18)\n",
    "plt.ylabel(r'Number of edges formed', fontsize=20)\n",
    "plt.legend(handles=[blue_patch, orange_patch, green_patch], loc='upper left', fontsize=15)\n",
    "plt.xticks(fontsize=12)\n",
    "plt.yticks(fontsize=12)\n",
    "plt.yscale('log')\n",
    "plt.axis('tight')\n",
    "fig.savefig('../images/link_formation_date_plot.eps', dpi=1200, format='eps')"
   ]
  }
 ],
 "metadata": {
  "kernelspec": {
   "display_name": "SMCDC2021",
   "language": "python",
   "name": "smcdc2021"
  },
  "language_info": {
   "codemirror_mode": {
    "name": "ipython",
    "version": 3
   },
   "file_extension": ".py",
   "mimetype": "text/x-python",
   "name": "python",
   "nbconvert_exporter": "python",
   "pygments_lexer": "ipython3",
   "version": "3.7.10"
  }
 },
 "nbformat": 4,
 "nbformat_minor": 5
}
